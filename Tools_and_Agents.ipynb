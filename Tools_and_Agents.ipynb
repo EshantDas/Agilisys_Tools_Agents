{
 "cells": [
  {
   "cell_type": "code",
   "execution_count": 10,
   "metadata": {},
   "outputs": [
    {
     "data": {
      "text/plain": [
       "True"
      ]
     },
     "execution_count": 10,
     "metadata": {},
     "output_type": "execute_result"
    }
   ],
   "source": [
    "from dotenv import load_dotenv\n",
    "load_dotenv(dotenv_path='myenv/.env')"
   ]
  },
  {
   "attachments": {},
   "cell_type": "markdown",
   "metadata": {},
   "source": [
    "## Tools"
   ]
  },
  {
   "attachments": {},
   "cell_type": "markdown",
   "metadata": {},
   "source": [
    "#### <font color='green'>How LLMs are not good at math</font>"
   ]
  },
  {
   "cell_type": "code",
   "execution_count": 27,
   "metadata": {},
   "outputs": [],
   "source": [
    "from langchain_openai import ChatOpenAI\n",
    "from langchain_core.output_parsers import StrOutputParser\n",
    "\n",
    "model = ChatOpenAI(model=\"gpt-3.5-turbo\",temperature=0)\n",
    "\n",
    "chain=model | StrOutputParser()\n"
   ]
  },
  {
   "cell_type": "code",
   "execution_count": 28,
   "metadata": {},
   "outputs": [
    {
     "name": "stdout",
     "output_type": "stream",
     "text": [
      "Approximately 116.63\n"
     ]
    }
   ],
   "source": [
    "print(chain.invoke(\"What is (4.5*2.1)**2.2\"))"
   ]
  },
  {
   "cell_type": "code",
   "execution_count": 13,
   "metadata": {},
   "outputs": [
    {
     "data": {
      "text/plain": [
       "139.94261298333066"
      ]
     },
     "execution_count": 13,
     "metadata": {},
     "output_type": "execute_result"
    }
   ],
   "source": [
    "(4.5*2.1)**2.2"
   ]
  },
  {
   "cell_type": "code",
   "execution_count": null,
   "metadata": {},
   "outputs": [],
   "source": []
  },
  {
   "attachments": {},
   "cell_type": "markdown",
   "metadata": {},
   "source": [
    "## Using a Math Tool"
   ]
  },
  {
   "cell_type": "code",
   "execution_count": 14,
   "metadata": {},
   "outputs": [],
   "source": [
    "\n",
    "from langchain.agents import load_tools, initialize_agent\n",
    "from langchain.agents import AgentType\n",
    "from operator import itemgetter\n",
    "\n",
    "tools = load_tools([\"llm-math\"], llm=model)"
   ]
  },
  {
   "cell_type": "code",
   "execution_count": 15,
   "metadata": {},
   "outputs": [
    {
     "data": {
      "text/plain": [
       "'Answer: 139.94261298333066'"
      ]
     },
     "execution_count": 15,
     "metadata": {},
     "output_type": "execute_result"
    }
   ],
   "source": [
    "math_tool=tools[0]\n",
    "math_tool.run(\"What is (4.5*2.1)**2.2\")"
   ]
  },
  {
   "cell_type": "code",
   "execution_count": null,
   "metadata": {},
   "outputs": [],
   "source": []
  },
  {
   "cell_type": "code",
   "execution_count": null,
   "metadata": {},
   "outputs": [],
   "source": []
  },
  {
   "attachments": {},
   "cell_type": "markdown",
   "metadata": {},
   "source": [
    "## Using Wikipedia Tool"
   ]
  },
  {
   "cell_type": "code",
   "execution_count": 16,
   "metadata": {},
   "outputs": [],
   "source": [
    "\n",
    "from langchain.agents import load_tools\n",
    "\n",
    "wikipedia_tool = load_tools([\"wikipedia\"], llm=model)[0]"
   ]
  },
  {
   "cell_type": "code",
   "execution_count": 17,
   "metadata": {},
   "outputs": [
    {
     "data": {
      "text/plain": [
       "'Page: Mohammad Reza Pahlavi\\nSummary: Mohammad Reza Pahlavi (26 October 1919 – 27 July 1980), commonly referred to in the Western world as Mohammad Reza Shah, or just simply the Shah, was the last monarch of Iran. He began ruling the Imperial State of Iran after succeeding his father, Reza Shah, in 1941 and remained in power until he was overthrown by the 1979 Iranian Revolution, which abolished the country\\'s monarchy and established the Islamic Republic of Iran. In 1967, he took up the title Shahanshah (lit.\\u2009\\'King of Kings\\') and held several others, including Aryamehr (lit.\\u2009\\'Light of the Aryans\\') and Bozorg Arteshtaran (lit.\\u2009\\'Grand Army Commander\\'). \\nHe was the second and last ruling monarch of the Pahlavi dynasty to rule Iran. His dream of what he referred to as a \"Great Civilization\" (تمدن بزرگ) in Iran led to his leadership over rapid industrial and military modernization, as well as economic and social reforms.\\nDuring World War II, the Anglo-Soviet invasion of Iran forced the abdication of Pahlavi\\'s father, Reza Shah, whom he succeeded. During Pahlavi\\'s reign, the British-owned oil industry was nationalized by the prime minister Mohammad Mosaddegh, who had support from Iran\\'s national parliament to do so. However, Mosaddegh was overthrown in the 1953 Iranian coup d\\'état, which was carried out by the Iranian military under the aegis of the United Kingdom and the United States. Subsequently, the Iranian government centralized power under Pahlavi and brought foreign oil companies back into the country\\'s industry through the Consortium Agreement of 1954.\\nIn 1963, Mohammad Reza introduced the White Revolution, a series of economic, social, and political reforms aimed at transforming Iran into a global power and modernizing the nation by nationalizing key industries and redistributing land. The regime also implemented Iranian nationalist policies establishing Cyrus the Great, the Cyrus Cylinder, and the Tomb of Cyrus the Great as popular symbols of Iran. The Shah initiated major investments in infrastructure, subsidies and land grants for peasant populations, profit sharing for industrial workers, construction of nuclear facilities, nationalization of Iran\\'s natural resources, and literacy programs which were considered some of the most effective in the world. Shah also instituted economic policy tariffs and preferential loans to Iranian businesses which sought to create an independent economy for the nation. Manufacturing of cars, appliances, and other goods in Iran increased substantially, leading to the creation of a new industrialist class insulated from threats of foreign competition. By the 1970s, Shah was seen as a master statesman and used his growing power to pass the 1973 Sale and Purchase Agreement. These reforms culminated in decades of sustained economic growth that would make Iran one of the fastest-growing economies among both the developed world and the developing world. During his 37-year-long rule, Iran spent billions of dollars\\' worth on industry, education, health, and military spending and enjoyed economic growth rates exceeding the United States, the United Kingdom, and France. Likewise, the Iranian national income rose 423 times over, and the country saw an unprecedented rise in per capita income—which reached the highest level of any point in Iran\\'s history—and high levels of urbanization. By 1977, Mohammad Reza\\'s focus on defense spending, which he saw as a means to end foreign powers\\' intervention in the country, had culminated in the Iranian military standing as the world\\'s fifth-strongest armed force.\\nAs political unrest grew throughout Iran in the late 1970s, Mohammad Reza\\'s position in the country was made untenable by the Jaleh Square massacre, in which the Iranian military killed and wounded dozens of protesters in Tehran, and the Cinema Rex fire, an arson attack in Abadan that was erroneously blamed on the Iranian intelligence agency SAVAK. The 1979 Guadeloupe Conference saw Mohammad Reza\\'s Weste'"
      ]
     },
     "execution_count": 17,
     "metadata": {},
     "output_type": "execute_result"
    }
   ],
   "source": [
    "wikipedia_tool.run(\"Tell me about Mohammad Ali\")"
   ]
  },
  {
   "cell_type": "code",
   "execution_count": null,
   "metadata": {},
   "outputs": [],
   "source": []
  }
 ],
 "metadata": {
  "kernelspec": {
   "display_name": "myenv",
   "language": "python",
   "name": "python3"
  },
  "language_info": {
   "codemirror_mode": {
    "name": "ipython",
    "version": 3
   },
   "file_extension": ".py",
   "mimetype": "text/x-python",
   "name": "python",
   "nbconvert_exporter": "python",
   "pygments_lexer": "ipython3",
   "version": "3.12.4"
  },
  "orig_nbformat": 4
 },
 "nbformat": 4,
 "nbformat_minor": 2
}
