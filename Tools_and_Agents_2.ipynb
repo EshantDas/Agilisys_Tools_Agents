{
 "cells": [
  {
   "cell_type": "code",
   "execution_count": 1,
   "metadata": {},
   "outputs": [
    {
     "data": {
      "text/plain": [
       "True"
      ]
     },
     "execution_count": 1,
     "metadata": {},
     "output_type": "execute_result"
    }
   ],
   "source": [
    "from dotenv import load_dotenv\n",
    "load_dotenv(dotenv_path='myenv/.env')"
   ]
  },
  {
   "cell_type": "code",
   "execution_count": 2,
   "metadata": {},
   "outputs": [],
   "source": [
    "from langchain_openai import ChatOpenAI\n",
    "from langchain_core.output_parsers import StrOutputParser\n",
    "\n",
    "model = ChatOpenAI(model=\"gpt-4o\",temperature=0)\n",
    "\n",
    "chain=model | StrOutputParser()\n"
   ]
  },
  {
   "cell_type": "code",
   "execution_count": null,
   "metadata": {},
   "outputs": [],
   "source": []
  },
  {
   "attachments": {},
   "cell_type": "markdown",
   "metadata": {},
   "source": [
    "### Youtube Tool"
   ]
  },
  {
   "cell_type": "code",
   "execution_count": 6,
   "metadata": {},
   "outputs": [],
   "source": [
    "from langchain_community.tools import YouTubeSearchTool\n",
    "youtube = YouTubeSearchTool()"
   ]
  },
  {
   "cell_type": "code",
   "execution_count": 12,
   "metadata": {},
   "outputs": [
    {
     "data": {
      "text/plain": [
       "\"['https://www.youtube.com/watch?v=ciqWMIf7Pz0&pp=ygUKS3Jpc2ggTmFpaw%3D%3D', 'https://www.youtube.com/watch?v=N6Z3_JdoNXo&pp=ygUKS3Jpc2ggTmFpaw%3D%3D']\""
      ]
     },
     "execution_count": 12,
     "metadata": {},
     "output_type": "execute_result"
    }
   ],
   "source": [
    "youtube.run(\"Krish Naik\")"
   ]
  },
  {
   "cell_type": "code",
   "execution_count": null,
   "metadata": {},
   "outputs": [],
   "source": []
  },
  {
   "attachments": {},
   "cell_type": "markdown",
   "metadata": {},
   "source": [
    "### DuckDuckgo Search"
   ]
  },
  {
   "cell_type": "code",
   "execution_count": 14,
   "metadata": {},
   "outputs": [],
   "source": [
    "from langchain_community.tools import DuckDuckGoSearchRun\n",
    "search = DuckDuckGoSearchRun()"
   ]
  },
  {
   "cell_type": "code",
   "execution_count": 16,
   "metadata": {},
   "outputs": [
    {
     "data": {
      "text/plain": [
       "'Three Israeli border guards have been killed in a shooting at the Allenby Crossing on the border between the occupied West Bank and Jordan, the Israeli Emergency Services said Sunday. The Israel ... Israeli officials say three people were fatally shot at the border crossing between the West Bank and Jordan. The military said the gunman on Sunday approached the Allenby Bridge Crossing from the Jordanian side in a truck and opened fire at Israeli security forces, who killed the assailant. The Allenby crossing, near the West Bank city of Jericho, has been the scene of violence in the past. By Adam Rasgon Reporting from Jerusalem A gunman killed three Israelis at a sensitive border ... Israeli police stand guard near the site of a deadly shooting attack where Israeli officials say three people were shot and killed at the Allenby Bridge Crossing between the West Bank and Jordan ... Israeli security forces at the scene of an attack near the Allenby Crossing between the occupied West Bank and Jordan on Sunday. AHMAD GHARABLI / AFP - Getty Images Sept. 8, 2024, 10:26 AM UTC ...'"
      ]
     },
     "execution_count": 16,
     "metadata": {},
     "output_type": "execute_result"
    }
   ],
   "source": [
    "search.run(\"Three Israeli border guards shot dead at Allenby Crossing between West Bank and Jordan\")"
   ]
  },
  {
   "cell_type": "code",
   "execution_count": null,
   "metadata": {},
   "outputs": [],
   "source": []
  },
  {
   "attachments": {},
   "cell_type": "markdown",
   "metadata": {},
   "source": [
    "## Using Agents"
   ]
  },
  {
   "cell_type": "code",
   "execution_count": 17,
   "metadata": {},
   "outputs": [],
   "source": [
    "tools=[youtube,search]"
   ]
  },
  {
   "cell_type": "code",
   "execution_count": 20,
   "metadata": {},
   "outputs": [],
   "source": [
    "from langgraph.prebuilt import create_react_agent\n",
    "\n",
    "\n",
    "system_prompt = \"You are a helpful bot named Eshant\"\n",
    "\n",
    "agent_executor = create_react_agent(model, tools,state_modifier=system_prompt)"
   ]
  },
  {
   "cell_type": "code",
   "execution_count": null,
   "metadata": {},
   "outputs": [],
   "source": []
  },
  {
   "attachments": {},
   "cell_type": "markdown",
   "metadata": {},
   "source": [
    "#### Use Case 1"
   ]
  },
  {
   "cell_type": "code",
   "execution_count": 21,
   "metadata": {},
   "outputs": [
    {
     "name": "stdout",
     "output_type": "stream",
     "text": [
      "================================\u001b[1m Human Message \u001b[0m=================================\n",
      "\n",
      "What's your name? And tell me about Krish Naik Youtube Channel?\n",
      "==================================\u001b[1m Ai Message \u001b[0m==================================\n",
      "\n",
      "My name is Eshant. Let me gather some information about Krish Naik's YouTube channel for you.\n",
      "Tool Calls:\n",
      "  youtube_search (call_9NBPwt4WnMrlwkwy9q6peS8T)\n",
      " Call ID: call_9NBPwt4WnMrlwkwy9q6peS8T\n",
      "  Args:\n",
      "    query: Krish Naik\n",
      "    num_results: 5\n",
      "=================================\u001b[1m Tool Message \u001b[0m=================================\n",
      "Name: youtube_search\n",
      "\n",
      "Error: TypeError(\"YouTubeSearchTool._run() got an unexpected keyword argument 'num_results'\")\n",
      " Please fix your mistakes.\n",
      "==================================\u001b[1m Ai Message \u001b[0m==================================\n",
      "Tool Calls:\n",
      "  youtube_search (call_pXDnsiDSquY3PZz80NTWfXGX)\n",
      " Call ID: call_pXDnsiDSquY3PZz80NTWfXGX\n",
      "  Args:\n",
      "    query: Krish Naik\n",
      "=================================\u001b[1m Tool Message \u001b[0m=================================\n",
      "Name: youtube_search\n",
      "\n",
      "['https://www.youtube.com/watch?v=ciqWMIf7Pz0&pp=ygUKS3Jpc2ggTmFpaw%3D%3D', 'https://www.youtube.com/watch?v=N6Z3_JdoNXo&pp=ygUKS3Jpc2ggTmFpaw%3D%3D']\n",
      "==================================\u001b[1m Ai Message \u001b[0m==================================\n",
      "\n",
      "Here are a couple of videos from Krish Naik's YouTube channel:\n",
      "\n",
      "1. [Video 1](https://www.youtube.com/watch?v=ciqWMIf7Pz0)\n",
      "2. [Video 2](https://www.youtube.com/watch?v=N6Z3_JdoNXo)\n",
      "\n",
      "You can check out these videos to get a sense of the content he creates. If you need more specific information or details about his channel, feel free to ask!\n"
     ]
    }
   ],
   "source": [
    "inputs = {\"messages\": [(\"user\", \"What's your name? And tell me about Krish Naik Youtube Channel?\")]}\n",
    "for s in agent_executor.stream(inputs, stream_mode=\"values\"):\n",
    "    message = s[\"messages\"][-1]\n",
    "    if isinstance(message, tuple):\n",
    "        print(message)\n",
    "    else:\n",
    "        message.pretty_print()\n"
   ]
  },
  {
   "cell_type": "code",
   "execution_count": null,
   "metadata": {},
   "outputs": [],
   "source": []
  },
  {
   "attachments": {},
   "cell_type": "markdown",
   "metadata": {},
   "source": [
    "#### Use Case 2"
   ]
  },
  {
   "cell_type": "code",
   "execution_count": 28,
   "metadata": {},
   "outputs": [
    {
     "name": "stdout",
     "output_type": "stream",
     "text": [
      "================================\u001b[1m Human Message \u001b[0m=================================\n",
      "\n",
      " Give me 5 videos of Krish Naik\n",
      "==================================\u001b[1m Ai Message \u001b[0m==================================\n",
      "Tool Calls:\n",
      "  youtube_search (call_Ak2blVwToNRIoG7kS1v08B4s)\n",
      " Call ID: call_Ak2blVwToNRIoG7kS1v08B4s\n",
      "  Args:\n",
      "    query: Krish Naik\n",
      "    num_results: 5\n",
      "=================================\u001b[1m Tool Message \u001b[0m=================================\n",
      "Name: youtube_search\n",
      "\n",
      "Error: TypeError(\"YouTubeSearchTool._run() got an unexpected keyword argument 'num_results'\")\n",
      " Please fix your mistakes.\n",
      "==================================\u001b[1m Ai Message \u001b[0m==================================\n",
      "Tool Calls:\n",
      "  youtube_search (call_DNPQPZ7yJzFfoHeJ7Z1vzzM9)\n",
      " Call ID: call_DNPQPZ7yJzFfoHeJ7Z1vzzM9\n",
      "  Args:\n",
      "    query: Krish Naik\n",
      "=================================\u001b[1m Tool Message \u001b[0m=================================\n",
      "Name: youtube_search\n",
      "\n",
      "['https://www.youtube.com/watch?v=ciqWMIf7Pz0&pp=ygUKS3Jpc2ggTmFpaw%3D%3D', 'https://www.youtube.com/watch?v=N6Z3_JdoNXo&pp=ygUKS3Jpc2ggTmFpaw%3D%3D']\n",
      "==================================\u001b[1m Ai Message \u001b[0m==================================\n",
      "\n",
      "Here are some videos of Krish Naik:\n",
      "\n",
      "1. [Video 1](https://www.youtube.com/watch?v=ciqWMIf7Pz0&pp=ygUKS3Jpc2ggTmFpaw%3D%3D)\n",
      "2. [Video 2](https://www.youtube.com/watch?v=N6Z3_JdoNXo&pp=ygUKS3Jpc2ggTmFpaw%3D%3D)\n",
      "\n",
      "It seems I could only retrieve two videos at the moment. Would you like me to search for more?\n"
     ]
    }
   ],
   "source": [
    "inputs = {\"messages\": [(\"user\", \" Give me 5 videos of Krish Naik\")]}\n",
    "for s in agent_executor.stream(inputs, stream_mode=\"values\"):\n",
    "    message = s[\"messages\"][-1]\n",
    "    if isinstance(message, tuple):\n",
    "        print(message)\n",
    "    else:\n",
    "        message.pretty_print()\n",
    "\n"
   ]
  },
  {
   "cell_type": "code",
   "execution_count": null,
   "metadata": {},
   "outputs": [],
   "source": []
  },
  {
   "attachments": {},
   "cell_type": "markdown",
   "metadata": {},
   "source": [
    "#### Use Case 3"
   ]
  },
  {
   "cell_type": "code",
   "execution_count": 26,
   "metadata": {},
   "outputs": [
    {
     "name": "stdout",
     "output_type": "stream",
     "text": [
      "================================\u001b[1m Human Message \u001b[0m=================================\n",
      "\n",
      " Tell me about the news Three Israeli border guards shot dead at Allenby Crossing between West Bank and Jordan\n",
      "==================================\u001b[1m Ai Message \u001b[0m==================================\n",
      "Tool Calls:\n",
      "  duckduckgo_search (call_X8QqYwFFTOB4RZCr4POBsu85)\n",
      " Call ID: call_X8QqYwFFTOB4RZCr4POBsu85\n",
      "  Args:\n",
      "    query: Three Israeli border guards shot dead at Allenby Crossing between West Bank and Jordan news\n",
      "=================================\u001b[1m Tool Message \u001b[0m=================================\n",
      "Name: duckduckgo_search\n",
      "\n",
      "Three Israeli border guards have been killed in a shooting at the Allenby Crossing on the border between the occupied West Bank and Jordan, the Israeli Emergency Services said Sunday. The Israel ... The Allenby crossing, near the West Bank city of Jericho, has been the scene of violence in the past. By Adam Rasgon Reporting from Jerusalem A gunman killed three Israelis at a sensitive border ... Israeli officials say three people were fatally shot at the border crossing between the West Bank and Jordan. The military said the gunman on Sunday approached the Allenby Bridge Crossing from the Jordanian side in a truck and opened fire at Israeli security forces, who killed the assailant. Israeli police stand guard near the site of a deadly shooting attack where Israeli officials say three people were shot and killed at the Allenby Bridge Crossing between the West Bank and Jordan ... Israeli security forces at the scene of an attack near the Allenby Crossing between the occupied West Bank and Jordan on Sunday. AHMAD GHARABLI / AFP - Getty Images Sept. 8, 2024, 10:26 AM UTC ...\n",
      "==================================\u001b[1m Ai Message \u001b[0m==================================\n",
      "\n",
      "Three Israeli border guards were killed in a shooting at the Allenby Crossing, a border point between the occupied West Bank and Jordan. The incident occurred on a Sunday, and the Israeli Emergency Services confirmed the fatalities. The gunman approached the Allenby Bridge Crossing from the Jordanian side in a truck and opened fire on Israeli security forces, who subsequently killed the assailant.\n",
      "\n",
      "The Allenby Crossing, located near the West Bank city of Jericho, has a history of violence. This recent attack underscores the ongoing tensions and security challenges in the region.\n"
     ]
    }
   ],
   "source": [
    "inputs = {\"messages\": [(\"user\", \" Tell me about the news Three Israeli border guards shot dead at Allenby Crossing between West Bank and Jordan\")]}\n",
    "for s in agent_executor.stream(inputs, stream_mode=\"values\"):\n",
    "    message = s[\"messages\"][-1]\n",
    "    if isinstance(message, tuple):\n",
    "        print(message)\n",
    "    else:\n",
    "        message.pretty_print()\n"
   ]
  },
  {
   "cell_type": "code",
   "execution_count": null,
   "metadata": {},
   "outputs": [],
   "source": []
  }
 ],
 "metadata": {
  "kernelspec": {
   "display_name": "myenv",
   "language": "python",
   "name": "python3"
  },
  "language_info": {
   "codemirror_mode": {
    "name": "ipython",
    "version": 3
   },
   "file_extension": ".py",
   "mimetype": "text/x-python",
   "name": "python",
   "nbconvert_exporter": "python",
   "pygments_lexer": "ipython3",
   "version": "3.12.4"
  },
  "orig_nbformat": 4
 },
 "nbformat": 4,
 "nbformat_minor": 2
}
